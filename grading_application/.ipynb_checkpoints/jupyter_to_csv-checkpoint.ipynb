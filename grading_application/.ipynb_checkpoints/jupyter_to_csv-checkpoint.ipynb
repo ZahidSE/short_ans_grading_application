{
 "cells": [
  {
   "cell_type": "code",
   "execution_count": 1,
   "metadata": {
    "collapsed": true
   },
   "outputs": [],
   "source": [
    "import re\n",
    "import os\n",
    "import codecs\n",
    "import json\n",
    "import pandas as pd\n",
    "from pandas import DataFrame"
   ]
  },
  {
   "cell_type": "code",
   "execution_count": 2,
   "metadata": {
    "collapsed": true
   },
   "outputs": [],
   "source": [
    "#https://stackabuse.com/reading-and-writing-json-to-a-file-in-python/\n",
    "data_folder = './data/'\n",
    "\n",
    "filenames = os.listdir(data_folder)  # get all files' and folders' names in the current directory\n",
    "\n",
    "student_ids = []\n",
    "for filename in filenames:  # loop through all the files and folders\n",
    "    if not os.path.isdir(\n",
    "            os.path.join(os.path.abspath(data_folder), filename)) and re.search(\"^.+ipynb$\", filename):  # check whether the current object is a folder or not\n",
    "        student_ids.append(filename)\n",
    "\n",
    "student_ids.sort()\n",
    "\n",
    "id_for_ans = []\n",
    "ques_num = []\n",
    "ques = []\n",
    "answers = []\n",
    "for student_id in student_ids:\n",
    "    with open(data_folder + student_id) as json_file: \n",
    "        source_is_ans = False\n",
    "        data = json.load(json_file)\n",
    "        for idx in range(len(data['cells'])):\n",
    "            p = data['cells'][idx]\n",
    "            source = p['source']\n",
    "\n",
    "            if len(source)>1:\n",
    "                if \"Question\" in source[0]:\n",
    "                    #source_is_ans = True\n",
    "                    m = re.search('(Question.+?[0-9]*)', source[0])\n",
    "                    if m:\n",
    "                        ques_num.append(m.group(1))\n",
    "                    ques.append(p['source'][2])\n",
    "                    \n",
    "                    a = data['cells'][idx+1]\n",
    "                    ans_source = a['source']    \n",
    "                    ans = ''\n",
    "                    for string in ans_source:\n",
    "                        ans = ans+string\n",
    "                    answers.append(ans)\n",
    "                    id_for_ans.append(student_id)\n",
    "data = {'student_id': id_for_ans,\n",
    "        'question_number': ques_num,\n",
    "        'questions': ques,\n",
    "        'answers':  answers}\n",
    "\n",
    "df = DataFrame(data,columns= ['student_id', 'question_number', 'questions', 'answers'])\n",
    "df.to_csv('./csv/labels/all_data.csv', encoding='utf-8')\n",
    "\n",
    "df1 = df.sort_values(by ='question_number' )\n",
    "df1.set_index(keys=['question_number'], drop=False,inplace=True)\n",
    "q_nums = df1['question_number'].unique().tolist()\n",
    "for q_num in q_nums:\n",
    "    q = df1.loc[df1.question_number==q_num]\n",
    "    q.to_csv('./csv/labels/'+q_num+'.csv', encoding='utf-8')"
   ]
  },
  {
   "cell_type": "code",
   "execution_count": 58,
   "metadata": {
    "collapsed": true
   },
   "outputs": [],
   "source": [
    "#For final o/p do ---> df.sort_values(by ='student_id') at the end to get back original df\n",
    "#ref: https://thispointer.com/pandas-sort-rows-or-columns-in-dataframe-based-on-values-using-dataframe-sort_values/\n",
    "#ref: https://stackoverflow.com/questions/19790790/splitting-dataframe-into-multiple-dataframes    "
   ]
  }
 ],
 "metadata": {
  "kernelspec": {
   "display_name": "Python 2",
   "language": "python",
   "name": "python2"
  },
  "language_info": {
   "codemirror_mode": {
    "name": "ipython",
    "version": 2
   },
   "file_extension": ".py",
   "mimetype": "text/x-python",
   "name": "python",
   "nbconvert_exporter": "python",
   "pygments_lexer": "ipython2",
   "version": "2.7.6"
  }
 },
 "nbformat": 4,
 "nbformat_minor": 2
}
